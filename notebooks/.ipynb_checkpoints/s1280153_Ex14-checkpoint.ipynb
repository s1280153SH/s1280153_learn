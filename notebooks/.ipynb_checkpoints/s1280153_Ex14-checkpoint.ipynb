{
 "cells": [
  {
   "cell_type": "markdown",
   "id": "dda8e6f4-b7a1-4db5-82f6-f9972ec4ecbd",
   "metadata": {},
   "source": [
    "# Setting up your own PyPI repository"
   ]
  },
  {
   "cell_type": "markdown",
   "id": "f24ccad5-5792-41ad-a262-4f98cfda32e6",
   "metadata": {},
   "source": [
    "## Install Packages"
   ]
  },
  {
   "cell_type": "code",
   "execution_count": 2,
   "id": "a9e6a439-85ab-4b5c-bbed-1f46eef0836a",
   "metadata": {},
   "outputs": [
    {
     "name": "stdout",
     "output_type": "stream",
     "text": [
      "Collecting s1280153_learn\n",
      "  Downloading s1280153_learn-0.1.0.tar.gz (1.6 kB)\n",
      "  Installing build dependencies ... \u001b[?25ldone\n",
      "\u001b[?25h  Getting requirements to build wheel ... \u001b[?25ldone\n",
      "\u001b[?25h  Preparing metadata (pyproject.toml) ... \u001b[?25ldone\n",
      "\u001b[?25hCollecting pandas (from s1280153_learn)\n",
      "  Obtaining dependency information for pandas from https://files.pythonhosted.org/packages/8f/bb/aea1fbeed5b474cb8634364718abe9030d7cc7a30bf51f40bd494bbc89a2/pandas-2.0.3-cp311-cp311-macosx_11_0_arm64.whl.metadata\n",
      "  Downloading pandas-2.0.3-cp311-cp311-macosx_11_0_arm64.whl.metadata (18 kB)\n",
      "Collecting numpy (from s1280153_learn)\n",
      "  Obtaining dependency information for numpy from https://files.pythonhosted.org/packages/86/a1/b8ef999c32f26a97b5f714887e21f96c12ae99a38583a0a96e65283ac0a1/numpy-1.25.2-cp311-cp311-macosx_11_0_arm64.whl.metadata\n",
      "  Downloading numpy-1.25.2-cp311-cp311-macosx_11_0_arm64.whl.metadata (5.6 kB)\n",
      "Collecting plotly (from s1280153_learn)\n",
      "  Obtaining dependency information for plotly from https://files.pythonhosted.org/packages/a5/07/5bef9376c975ce23306d9217ab69ca94c07f2a3c90b17c03e3ae4db87170/plotly-5.15.0-py2.py3-none-any.whl.metadata\n",
      "  Downloading plotly-5.15.0-py2.py3-none-any.whl.metadata (7.0 kB)\n",
      "Requirement already satisfied: python-dateutil>=2.8.2 in /Library/Frameworks/Python.framework/Versions/3.11/lib/python3.11/site-packages (from pandas->s1280153_learn) (2.8.2)\n",
      "Collecting pytz>=2020.1 (from pandas->s1280153_learn)\n",
      "  Downloading pytz-2023.3-py2.py3-none-any.whl (502 kB)\n",
      "\u001b[2K     \u001b[38;2;114;156;31m━━━━━━━━━━━━━━━━━━━━━━━━━━━━━━━━━━━━━━━\u001b[0m \u001b[32m502.3/502.3 kB\u001b[0m \u001b[31m5.4 MB/s\u001b[0m eta \u001b[36m0:00:00\u001b[0mm eta \u001b[36m0:00:01\u001b[0m[36m0:00:01\u001b[0m\n",
      "\u001b[?25hCollecting tzdata>=2022.1 (from pandas->s1280153_learn)\n",
      "  Downloading tzdata-2023.3-py2.py3-none-any.whl (341 kB)\n",
      "\u001b[2K     \u001b[38;2;114;156;31m━━━━━━━━━━━━━━━━━━━━━━━━━━━━━━━━━━━━━━\u001b[0m \u001b[32m341.8/341.8 kB\u001b[0m \u001b[31m13.2 MB/s\u001b[0m eta \u001b[36m0:00:00\u001b[0m\n",
      "\u001b[?25hCollecting tenacity>=6.2.0 (from plotly->s1280153_learn)\n",
      "  Downloading tenacity-8.2.2-py3-none-any.whl (24 kB)\n",
      "Requirement already satisfied: packaging in /Library/Frameworks/Python.framework/Versions/3.11/lib/python3.11/site-packages (from plotly->s1280153_learn) (23.1)\n",
      "Requirement already satisfied: six>=1.5 in /Library/Frameworks/Python.framework/Versions/3.11/lib/python3.11/site-packages (from python-dateutil>=2.8.2->pandas->s1280153_learn) (1.16.0)\n",
      "Downloading numpy-1.25.2-cp311-cp311-macosx_11_0_arm64.whl (14.0 MB)\n",
      "\u001b[2K   \u001b[38;2;114;156;31m━━━━━━━━━━━━━━━━━━━━━━━━━━━━━━━━━━━━━━━━\u001b[0m \u001b[32m14.0/14.0 MB\u001b[0m \u001b[31m23.3 MB/s\u001b[0m eta \u001b[36m0:00:00\u001b[0mm eta \u001b[36m0:00:01\u001b[0m[36m0:00:01\u001b[0m\n",
      "\u001b[?25hDownloading pandas-2.0.3-cp311-cp311-macosx_11_0_arm64.whl (10.7 MB)\n",
      "\u001b[2K   \u001b[38;2;114;156;31m━━━━━━━━━━━━━━━━━━━━━━━━━━━━━━━━━━━━━━━━\u001b[0m \u001b[32m10.7/10.7 MB\u001b[0m \u001b[31m16.9 MB/s\u001b[0m eta \u001b[36m0:00:00\u001b[0mm eta \u001b[36m0:00:01\u001b[0m:01\u001b[0m:01\u001b[0m\n",
      "\u001b[?25hDownloading plotly-5.15.0-py2.py3-none-any.whl (15.5 MB)\n",
      "\u001b[2K   \u001b[38;2;114;156;31m━━━━━━━━━━━━━━━━━━━━━━━━━━━━━━━━━━━━━━━━\u001b[0m \u001b[32m15.5/15.5 MB\u001b[0m \u001b[31m21.8 MB/s\u001b[0m eta \u001b[36m0:00:00\u001b[0mm eta \u001b[36m0:00:01\u001b[0m[36m0:00:01\u001b[0m\n",
      "\u001b[?25hBuilding wheels for collected packages: s1280153_learn\n",
      "  Building wheel for s1280153_learn (pyproject.toml) ... \u001b[?25ldone\n",
      "\u001b[?25h  Created wheel for s1280153_learn: filename=s1280153_learn-0.1.0-py3-none-any.whl size=2795 sha256=ab3adfea969855f704591e725ce22509d01511c5da2517776eb1310bc1e85bad\n",
      "  Stored in directory: /Users/shunshun/Library/Caches/pip/wheels/b2/f5/2a/46b50925d4d6978338f1ace43b7e3e5b8072aeacfdd491dca4\n",
      "Successfully built s1280153_learn\n",
      "Installing collected packages: pytz, tzdata, tenacity, numpy, plotly, pandas, s1280153_learn\n",
      "Successfully installed numpy-1.25.2 pandas-2.0.3 plotly-5.15.0 pytz-2023.3 s1280153_learn-0.1.0 tenacity-8.2.2 tzdata-2023.3\n"
     ]
    }
   ],
   "source": [
    "!pip install s1280153_learn"
   ]
  },
  {
   "cell_type": "markdown",
   "id": "5eaedbd0-a39b-4f49-9102-d2bfe6a22f47",
   "metadata": {},
   "source": [
    "## Check Package Information"
   ]
  },
  {
   "cell_type": "code",
   "execution_count": 3,
   "id": "0e7922ad-d3cf-4566-9ae5-844594e006b3",
   "metadata": {},
   "outputs": [
    {
     "name": "stdout",
     "output_type": "stream",
     "text": [
      "Name: s1280153-learn\n",
      "Version: 0.1.0\n",
      "Summary: A package for learning purposes.\n",
      "Home-page: https://github.com/s1280153SH/s1280153_learn\n",
      "Author: s1280153\n",
      "Author-email: s1280153aizu@gmail.com\n",
      "License: \n",
      "Location: /Library/Frameworks/Python.framework/Versions/3.11/lib/python3.11/site-packages\n",
      "Requires: numpy, pandas, plotly\n",
      "Required-by: \n"
     ]
    }
   ],
   "source": [
    "!pip show s1280153_learn"
   ]
  },
  {
   "cell_type": "markdown",
   "id": "005426e7-edc6-4db1-b447-f9b8976d5e56",
   "metadata": {},
   "source": [
    "## Execute frequenciesOfItems.py"
   ]
  },
  {
   "cell_type": "code",
   "execution_count": 9,
   "id": "456c8c9a-fee0-4fc8-a86b-304eda5842f6",
   "metadata": {},
   "outputs": [],
   "source": [
    "import pandas as pd\n",
    "\n",
    "# Read the CSV file\n",
    "df = pd.read_csv('airPollutionDataFrame.csv')\n",
    "\n",
    "# Drop the 'Timestamp' column\n",
    "df.drop(columns=['Timestamp'], inplace=True)\n",
    "\n",
    "# Replace NaN values with zero\n",
    "df.fillna(0, inplace=True)\n",
    "\n",
    "# Replace values greater than or equal to 100 with zero\n",
    "df[df >= 100] = 0\n",
    "\n",
    "# Convert to transaction data\n",
    "transaction_data = df.apply(lambda row: [col for col in df.columns if row[col] != 0], axis=1).tolist()"
   ]
  },
  {
   "cell_type": "code",
   "execution_count": 10,
   "id": "747385a5-cef5-4f3c-9b3f-2eb8ff8adcec",
   "metadata": {},
   "outputs": [],
   "source": [
    "import pandas as pd\n",
    "\n",
    "def frequenciesOfItems(transaction_data):\n",
    "    # Convert transaction data to a DataFrame\n",
    "    df = pd.DataFrame(transaction_data)\n",
    "\n",
    "    # Calculate item frequencies\n",
    "    item_frequencies = df.stack().value_counts().to_dict()\n",
    "\n",
    "    return item_frequencies"
   ]
  },
  {
   "cell_type": "markdown",
   "id": "c794c19f-d1ba-4c22-ab67-53445038ed3e",
   "metadata": {},
   "source": [
    "## Execute heatMapItemsFrequencies.py"
   ]
  },
  {
   "cell_type": "code",
   "execution_count": 11,
   "id": "a46ddc5d-67bd-4ffe-89cb-50eeea8a9784",
   "metadata": {},
   "outputs": [],
   "source": [
    "import plotly.graph_objects as go\n",
    "\n",
    "def heatMapItemsFrequencies(items_frequencies_dictionary):\n",
    "    # Extract items and frequencies from the dictionary\n",
    "    items = list(items_frequencies_dictionary.keys())\n",
    "    frequencies = list(items_frequencies_dictionary.values())\n",
    "\n",
    "    # Create a heatmap plot\n",
    "    fig = go.Figure(data=go.Heatmap(z=frequencies, x=items, y=[0]))\n",
    "\n",
    "    # Customize the plot layout\n",
    "    fig.update_layout(title=\"Item Frequencies Heatmap\",\n",
    "                      xaxis_title=\"Items\",\n",
    "                      yaxis_title=\"\",\n",
    "                      xaxis=dict(side='bottom'),\n",
    "                      yaxis=dict(showticklabels=False, showgrid=False),\n",
    "                      autosize=False,\n",
    "                      width=800,\n",
    "                      height=400)\n",
    "\n",
    "    # Show the plot\n",
    "    fig.show()"
   ]
  },
  {
   "cell_type": "markdown",
   "id": "055dd658-93c9-417a-aa3d-efb081534c57",
   "metadata": {},
   "source": [
    "## Implement FP-growth Algorithm"
   ]
  },
  {
   "cell_type": "code",
   "execution_count": 14,
   "id": "45194dcc-c04a-4f40-84ee-0efbb5344dc6",
   "metadata": {},
   "outputs": [
    {
     "name": "stdout",
     "output_type": "stream",
     "text": [
      "Frequent patterns were generated successfully using frequentPatternGrowth algorithm\n",
      "Total number of Frequent Patterns: 152\n",
      "Total Memory in RSS 72646656\n",
      "Total ExecutionTime in seconds: 0.12970185279846191\n"
     ]
    }
   ],
   "source": [
    "# import the frequent pattern mining algorithm\n",
    "from PAMI.frequentPattern.basic import FPGrowth as alg\n",
    "\n",
    "# specify the filename of the transactional database\n",
    "inputFile = 'PM24HeavyPollutionRecordingSensors.csv'\n",
    "\n",
    "# specify the minimum support value\n",
    "minSup = 15\n",
    "\n",
    "# create the object of the mining algorithm\n",
    "obj = alg.FPGrowth(inputFile, minSup)\n",
    "\n",
    "# start the mining process\n",
    "obj.startMine()\n",
    "\n",
    "# print the number of interesting patterns generated\n",
    "print(\"Total number of Frequent Patterns:\", len(obj.getPatterns()))\n",
    "\n",
    "# save the generated patterns in a file\n",
    "obj.save('frequentPatterns.txt')\n",
    "\n",
    "# determine the memory consumed by the mining algorithm\n",
    "print(\"Total Memory in RSS\", obj.getMemoryRSS())\n",
    "\n",
    "# determine the total runtime consumed by the mining algorithm\n",
    "print(\"Total ExecutionTime in seconds:\", obj.getRuntime())"
   ]
  }
 ],
 "metadata": {
  "kernelspec": {
   "display_name": "Python 3 (ipykernel)",
   "language": "python",
   "name": "python3"
  },
  "language_info": {
   "codemirror_mode": {
    "name": "ipython",
    "version": 3
   },
   "file_extension": ".py",
   "mimetype": "text/x-python",
   "name": "python",
   "nbconvert_exporter": "python",
   "pygments_lexer": "ipython3",
   "version": "3.11.4"
  }
 },
 "nbformat": 4,
 "nbformat_minor": 5
}
